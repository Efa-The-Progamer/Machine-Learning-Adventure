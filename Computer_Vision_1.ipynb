{
  "nbformat": 4,
  "nbformat_minor": 0,
  "metadata": {
    "colab": {
      "name": "Computer-Vision-1.ipynb",
      "provenance": [],
      "mount_file_id": "1RdxsY7v9B7HHxk9hw8P1Kci6SK6bSrML",
      "authorship_tag": "ABX9TyPVCndLZIehnbZYXm9X9rev",
      "include_colab_link": true
    },
    "kernelspec": {
      "name": "python3",
      "display_name": "Python 3"
    },
    "language_info": {
      "name": "python"
    }
  },
  "cells": [
    {
      "cell_type": "markdown",
      "metadata": {
        "id": "view-in-github",
        "colab_type": "text"
      },
      "source": [
        "<a href=\"https://colab.research.google.com/github/mralamdari/Machine-Learning-Adventure/blob/main/Computer_Vision_1.ipynb\" target=\"_parent\"><img src=\"https://colab.research.google.com/assets/colab-badge.svg\" alt=\"Open In Colab\"/></a>"
      ]
    },
    {
      "cell_type": "code",
      "execution_count": 1,
      "metadata": {
        "id": "0Bpaq0OwJ6KO",
        "colab": {
          "base_uri": "https://localhost:8080/"
        },
        "outputId": "92a776d3-6bd0-4abd-da4b-29091e3cc078"
      },
      "outputs": [
        {
          "output_type": "stream",
          "name": "stdout",
          "text": [
            "9\n"
          ]
        }
      ],
      "source": [
        "print(9)"
      ]
    },
    {
      "cell_type": "code",
      "source": [
        ""
      ],
      "metadata": {
        "id": "BAOnd7zhLU8Z"
      },
      "execution_count": null,
      "outputs": []
    }
  ]
}